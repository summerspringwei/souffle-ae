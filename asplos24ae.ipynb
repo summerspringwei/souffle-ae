{
 "cells": [
  {
   "cell_type": "code",
   "execution_count": null,
   "metadata": {},
   "outputs": [],
   "source": [
    "!docker rm -f souffle-tvm-0.8\n",
    "!docker run --name souffle-tvm-0.8 -d --gpus all -it -v /home/xiachunwei/Software/tensor-compiler:/workspace/tensor-compiler tvm-0.8:latest /bin/bash"
   ]
  },
  {
   "cell_type": "code",
   "execution_count": null,
   "metadata": {},
   "outputs": [],
   "source": [
    "# !docker exec -w /workspace/ -it souffle-tvm-0.8 /bin/bash -c \"echo $PATH && cd /workspace/tensor-compiler/src/operator_fusion/models/resnext && python3 run_souffle_resnext.py O0\"\n",
    "!docker exec -w /workspace/ -it souffle-tvm-0.8 /bin/bash -c \"cd /workspace/tensor-compiler/src/operator_fusion/models/resnext && bash run_nsys_resnext.sh\""
   ]
  }
 ],
 "metadata": {
  "kernelspec": {
   "display_name": "Python 3",
   "language": "python",
   "name": "python3"
  },
  "language_info": {
   "codemirror_mode": {
    "name": "ipython",
    "version": 3
   },
   "file_extension": ".py",
   "mimetype": "text/x-python",
   "name": "python",
   "nbconvert_exporter": "python",
   "pygments_lexer": "ipython3",
   "version": "3.11.4"
  },
  "orig_nbformat": 4
 },
 "nbformat": 4,
 "nbformat_minor": 2
}
