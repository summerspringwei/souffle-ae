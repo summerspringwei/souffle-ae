{
 "cells": [
  {
   "cell_type": "code",
   "execution_count": null,
   "metadata": {},
   "outputs": [],
   "source": [
    "!nvidia-smi"
   ]
  },
  {
   "cell_type": "markdown",
   "metadata": {},
   "source": [
    "You Can use this notebook to execute commands to monotor the execution status of our machine."
   ]
  },
  {
   "cell_type": "code",
   "execution_count": null,
   "metadata": {},
   "outputs": [],
   "source": [
    "top"
   ]
  },
  {
   "cell_type": "code",
   "execution_count": null,
   "metadata": {},
   "outputs": [],
   "source": [
    "!top\n",
    "!ps\n"
   ]
  },
  {
   "cell_type": "code",
   "execution_count": null,
   "metadata": {},
   "outputs": [],
   "source": [
    "!ls"
   ]
  },
  {
   "cell_type": "code",
   "execution_count": null,
   "metadata": {},
   "outputs": [],
   "source": [
    "!sleep 10"
   ]
  },
  {
   "cell_type": "code",
   "execution_count": null,
   "metadata": {},
   "outputs": [],
   "source": [
    "!cat results/table3.csv"
   ]
  },
  {
   "cell_type": "code",
   "execution_count": null,
   "metadata": {},
   "outputs": [],
   "source": [
    "!top"
   ]
  },
  {
   "cell_type": "code",
   "execution_count": null,
   "metadata": {},
   "outputs": [],
   "source": [
    "!cat results/table3.csv"
   ]
  },
  {
   "cell_type": "code",
   "execution_count": null,
   "metadata": {},
   "outputs": [],
   "source": [
    "!cat results/table3.csv"
   ]
  },
  {
   "cell_type": "code",
   "execution_count": null,
   "metadata": {},
   "outputs": [],
   "source": [
    "!cat results/table4.csv"
   ]
  },
  {
   "cell_type": "code",
   "execution_count": null,
   "metadata": {},
   "outputs": [],
   "source": [
    "!ls results\n"
   ]
  },
  {
   "cell_type": "code",
   "execution_count": null,
   "metadata": {},
   "outputs": [],
   "source": [
    "!ls"
   ]
  },
  {
   "cell_type": "code",
   "execution_count": null,
   "metadata": {},
   "outputs": [],
   "source": [
    "!ps"
   ]
  },
  {
   "cell_type": "code",
   "execution_count": 1,
   "metadata": {},
   "outputs": [
    {
     "name": "stdout",
     "output_type": "stream",
     "text": [
      "\u001b[?1h\u001b=\u001b[H\u001b[2J\u001b[mtop - 00:13:16 up 20 days, 16:30,  4 users,  load average: 1.33, 1.39, 1.38\u001b[m\u001b[m\u001b[m\u001b[m\u001b[K\n",
      "Tasks:\u001b[m\u001b[m\u001b[1m 730 \u001b[m\u001b[mtotal,\u001b[m\u001b[m\u001b[1m   1 \u001b[m\u001b[mrunning,\u001b[m\u001b[m\u001b[1m 454 \u001b[m\u001b[msleeping,\u001b[m\u001b[m\u001b[1m  30 \u001b[m\u001b[mstopped,\u001b[m\u001b[m\u001b[1m   1 \u001b[m\u001b[mzombie\u001b[m\u001b[m\u001b[m\u001b[m\u001b[K\n",
      "%Cpu(s):\u001b[m\u001b[m\u001b[1m  1.4 \u001b[m\u001b[mus,\u001b[m\u001b[m\u001b[1m  2.4 \u001b[m\u001b[msy,\u001b[m\u001b[m\u001b[1m  0.0 \u001b[m\u001b[mni,\u001b[m\u001b[m\u001b[1m 96.3 \u001b[m\u001b[mid,\u001b[m\u001b[m\u001b[1m  0.0 \u001b[m\u001b[mwa,\u001b[m\u001b[m\u001b[1m  0.0 \u001b[m\u001b[mhi,\u001b[m\u001b[m\u001b[1m  0.0 \u001b[m\u001b[msi,\u001b[m\u001b[m\u001b[1m  0.0 \u001b[m\u001b[mst\u001b[m\u001b[m\u001b[m\u001b[m\u001b[K\n",
      "KiB Mem :\u001b[m\u001b[m\u001b[1m 77881388+\u001b[m\u001b[mtotal,\u001b[m\u001b[m\u001b[1m 47850726+\u001b[m\u001b[mfree,\u001b[m\u001b[m\u001b[1m 26539844 \u001b[m\u001b[mused,\u001b[m\u001b[m\u001b[1m 27376678+\u001b[m\u001b[mbuff/cache\u001b[m\u001b[m\u001b[m\u001b[m\u001b[K\n",
      "KiB Swap:\u001b[m\u001b[m\u001b[1m        0 \u001b[m\u001b[mtotal,\u001b[m\u001b[m\u001b[1m        0 \u001b[m\u001b[mfree,\u001b[m\u001b[m\u001b[1m        0 \u001b[m\u001b[mused.\u001b[m\u001b[m\u001b[1m 74488108+\u001b[m\u001b[mavail Mem \u001b[m\u001b[m\u001b[m\u001b[m\u001b[K\n",
      "\u001b[K\n",
      "\u001b[7m  PID USER      PR  NI    VIRT    RES    SHR S  %CPU %MEM     TIME+ COMMAND     \u001b[m\u001b[m\u001b[K\n",
      "\u001b[m\u001b[1m24946 xiachun+  20   0   46532   4916   3704 R  11.8  0.0   0:00.12 top         \u001b[m\u001b[m\u001b[K\n",
      "\u001b[m  983 xiachun+  20   0  693220 188880  36544 S   5.9  0.0   3:06.46 jupyter-no+ \u001b[m\u001b[m\u001b[K\n",
      "\u001b[m 3871 libvirt+  20   0 38.087g 0.031t  17096 S   5.9  4.3   2875:09 qemu-syste+ \u001b[m\u001b[m\u001b[K\n",
      "\u001b[m    1 root      20   0  226108   9624   6608 S   0.0  0.0   0:33.82 systemd     \u001b[m\u001b[m\u001b[K\n",
      "\u001b[m    2 root      20   0       0      0      0 S   0.0  0.0   0:00.78 kthreadd    \u001b[m\u001b[m\u001b[K\n",
      "\u001b[m    3 root       0 -20       0      0      0 I   0.0  0.0   0:00.00 rcu_gp      \u001b[m\u001b[m\u001b[K\n",
      "\u001b[m    4 root       0 -20       0      0      0 I   0.0  0.0   0:00.00 rcu_par_gp  \u001b[m\u001b[m\u001b[K\n",
      "\u001b[m    6 root       0 -20       0      0      0 I   0.0  0.0   0:00.00 kworker/0:+ \u001b[m\u001b[m\u001b[K\n",
      "\u001b[m    9 root       0 -20       0      0      0 I   0.0  0.0   0:00.00 mm_percpu_+ \u001b[m\u001b[m\u001b[K\n",
      "\u001b[m   10 root      20   0       0      0      0 S   0.0  0.0   0:41.78 ksoftirqd/0 \u001b[m\u001b[m\u001b[K\n",
      "\u001b[m   11 root      20   0       0      0      0 I   0.0  0.0  10:23.01 rcu_sched   \u001b[m\u001b[m\u001b[K\n",
      "\u001b[m   12 root      rt   0       0      0      0 S   0.0  0.0   0:02.25 migration/0 \u001b[m\u001b[m\u001b[K\n",
      "\u001b[m   13 root     -51   0       0      0      0 S   0.0  0.0   0:00.00 idle_injec+ \u001b[m\u001b[m\u001b[K\n",
      "\u001b[m   14 root      20   0       0      0      0 S   0.0  0.0   0:00.00 cpuhp/0     \u001b[m\u001b[m\u001b[K\n",
      "\u001b[m   15 root      20   0       0      0      0 S   0.0  0.0   0:00.00 cpuhp/1     \u001b[m\u001b[m\u001b[K\n",
      "\u001b[m   16 root     -51   0       0      0      0 S   0.0  0.0   0:00.00 idle_injec+ \u001b[m\u001b[m\u001b[K\n",
      "\u001b[m   17 root      rt   0       0      0      0 S   0.0  0.0   0:09.61 migration/1 \u001b[m\u001b[m\u001b[K\u001b[H\u001b[mtop - 00:13:19 up 20 days, 16:30,  4 users,  load average: 1.31, 1.38, 1.38\u001b[m\u001b[m\u001b[m\u001b[m\u001b[K\n",
      "Tasks:\u001b[m\u001b[m\u001b[1m 730 \u001b[m\u001b[mtotal,\u001b[m\u001b[m\u001b[1m   2 \u001b[m\u001b[mrunning,\u001b[m\u001b[m\u001b[1m 453 \u001b[m\u001b[msleeping,\u001b[m\u001b[m\u001b[1m  30 \u001b[m\u001b[mstopped,\u001b[m\u001b[m\u001b[1m   1 \u001b[m\u001b[mzombie\u001b[m\u001b[m\u001b[m\u001b[m\u001b[K\n",
      "%Cpu(s):\u001b[m\u001b[m\u001b[1m  0.1 \u001b[m\u001b[mus,\u001b[m\u001b[m\u001b[1m  0.1 \u001b[m\u001b[msy,\u001b[m\u001b[m\u001b[1m  0.0 \u001b[m\u001b[mni,\u001b[m\u001b[m\u001b[1m 99.8 \u001b[m\u001b[mid,\u001b[m\u001b[m\u001b[1m  0.0 \u001b[m\u001b[mwa,\u001b[m\u001b[m\u001b[1m  0.0 \u001b[m\u001b[mhi,\u001b[m\u001b[m\u001b[1m  0.0 \u001b[m\u001b[msi,\u001b[m\u001b[m\u001b[1m  0.0 \u001b[m\u001b[mst\u001b[m\u001b[m\u001b[m\u001b[m\u001b[K\n",
      "KiB Mem :\u001b[m\u001b[m\u001b[1m 77881388+\u001b[m\u001b[mtotal,\u001b[m\u001b[m\u001b[1m 47850713+\u001b[m\u001b[mfree,\u001b[m\u001b[m\u001b[1m 26539836 \u001b[m\u001b[mused,\u001b[m\u001b[m\u001b[1m 27376691+\u001b[m\u001b[mbuff/cache\u001b[m\u001b[m\u001b[m\u001b[m\u001b[K\n",
      "\n",
      "\u001b[K\n",
      "\n",
      "\u001b[m 3871 libvirt+  20   0 38.087g 0.031t  17096 S   7.6  4.3   2875:09 qemu-syste+ \u001b[m\u001b[m\u001b[K\n",
      "\u001b[m\u001b[1m  261 root      25   5       0      0      0 R   0.3  0.0  95:01.08 ksmd        \u001b[m\u001b[m\u001b[K\n",
      "\u001b[m 2084 root      20   0  326856   2864   2356 S   0.3  0.0  89:41.51 rshim       \u001b[m\u001b[m\u001b[K\n",
      "\u001b[m10589 xiachun+  20   0  775752  66132  15468 S   0.3  0.0   0:01.32 python      \u001b[m\u001b[m\u001b[K\n",
      "\u001b[m14779 root      20   0  713104   9828   7100 S   0.3  0.0   0:26.70 containerd+ \u001b[m\u001b[m\u001b[K\n",
      "\u001b[m20215 zhayong+  20   0 11.108g 304700  43884 S   0.3  0.0  27:11.97 node        \u001b[m\u001b[m\u001b[K\n",
      "\u001b[m\u001b[1m24946 xiachun+  20   0   46500   5028   3704 R   0.3  0.0   0:00.13 top         \u001b[m\u001b[m\u001b[K\n",
      "\u001b[m    1 root      20   0  226108   9624   6608 S   0.0  0.0   0:33.82 systemd     \u001b[m\u001b[m\u001b[K\n",
      "\u001b[m    2 root      20   0       0      0      0 S   0.0  0.0   0:00.78 kthreadd    \u001b[m\u001b[m\u001b[K\n",
      "\u001b[m    3 root       0 -20       0      0      0 I   0.0  0.0   0:00.00 rcu_gp      \u001b[m\u001b[m\u001b[K\n",
      "\u001b[m    4 root       0 -20       0      0      0 I   0.0  0.0   0:00.00 rcu_par_gp  \u001b[m\u001b[m\u001b[K\n",
      "\u001b[m    6 root       0 -20       0      0      0 I   0.0  0.0   0:00.00 kworker/0:+ \u001b[m\u001b[m\u001b[K\n",
      "\u001b[m    9 root       0 -20       0      0      0 I   0.0  0.0   0:00.00 mm_percpu_+ \u001b[m\u001b[m\u001b[K\n",
      "\u001b[m   10 root      20   0       0      0      0 S   0.0  0.0   0:41.78 ksoftirqd/0 \u001b[m\u001b[m\u001b[K\n",
      "\u001b[m   11 root      20   0       0      0      0 I   0.0  0.0  10:23.01 rcu_sched   \u001b[m\u001b[m\u001b[K\n",
      "\u001b[m   12 root      rt   0       0      0      0 S   0.0  0.0   0:02.25 migration/0 \u001b[m\u001b[m\u001b[K\n",
      "\u001b[m   13 root     -51   0       0      0      0 S   0.0  0.0   0:00.00 idle_injec+ \u001b[m\u001b[m\u001b[K\u001b[H\u001b[mtop - 00:13:23 up 20 days, 16:30,  4 users,  load average: 1.31, 1.38, 1.38\u001b[m\u001b[m\u001b[m\u001b[m\u001b[K\n",
      "Tasks:\u001b[m\u001b[m\u001b[1m 730 \u001b[m\u001b[mtotal,\u001b[m\u001b[m\u001b[1m   1 \u001b[m\u001b[mrunning,\u001b[m\u001b[m\u001b[1m 454 \u001b[m\u001b[msleeping,\u001b[m\u001b[m\u001b[1m  30 \u001b[m\u001b[mstopped,\u001b[m\u001b[m\u001b[1m   1 \u001b[m\u001b[mzombie\u001b[m\u001b[m\u001b[m\u001b[m\u001b[K\n",
      "%Cpu(s):\u001b[m\u001b[m\u001b[1m  0.1 \u001b[m\u001b[mus,\u001b[m\u001b[m\u001b[1m  0.2 \u001b[m\u001b[msy,\u001b[m\u001b[m\u001b[1m  0.0 \u001b[m\u001b[mni,\u001b[m\u001b[m\u001b[1m 99.7 \u001b[m\u001b[mid,\u001b[m\u001b[m\u001b[1m  0.0 \u001b[m\u001b[mwa,\u001b[m\u001b[m\u001b[1m  0.0 \u001b[m\u001b[mhi,\u001b[m\u001b[m\u001b[1m  0.0 \u001b[m\u001b[msi,\u001b[m\u001b[m\u001b[1m  0.0 \u001b[m\u001b[mst\u001b[m\u001b[m\u001b[m\u001b[m\u001b[K\n",
      "KiB Mem :\u001b[m\u001b[m\u001b[1m 77881388+\u001b[m\u001b[mtotal,\u001b[m\u001b[m\u001b[1m 47850713+\u001b[m\u001b[mfree,\u001b[m\u001b[m\u001b[1m 26539828 \u001b[m\u001b[mused,\u001b[m\u001b[m\u001b[1m 27376691+\u001b[m\u001b[mbuff/cache\u001b[m\u001b[m\u001b[m\u001b[m\u001b[K\n",
      "\n",
      "\u001b[K\n",
      "\n",
      "\u001b[m 3871 libvirt+  20   0 38.087g 0.031t  17096 S   8.0  4.3   2875:10 qemu-syste+ \u001b[m\u001b[m\u001b[K\n",
      "\u001b[m10589 xiachun+  20   0  775752  66132  15468 S   0.7  0.0   0:01.34 python      \u001b[m\u001b[m\u001b[K\n",
      "\u001b[m  261 root      25   5       0      0      0 S   0.3  0.0  95:01.09 ksmd        \u001b[m\u001b[m\u001b[K\n",
      "\u001b[m 2033 root      20   0 2758436  44612  26164 S   0.3  0.0   4:54.65 containerd  \u001b[m\u001b[m\u001b[K\n",
      "\u001b[m 2084 root      20   0  326856   2864   2356 S   0.3  0.0  89:41.52 rshim       \u001b[m\u001b[m\u001b[K\n",
      "\u001b[m20545 root      20   0       0      0      0 I   0.3  0.0   0:00.04 kworker/8:+ \u001b[m\u001b[m\u001b[K\n",
      "\u001b[m20874 zhayong+  20   0 2163240 1.246g  37980 S   0.3  0.2  55:46.17 node        \u001b[m\u001b[m\u001b[K\n",
      "\u001b[m\u001b[1m24946 xiachun+  20   0   46500   5028   3704 R   0.3  0.0   0:00.14 top         \u001b[m\u001b[m\u001b[K\n",
      "\u001b[m39635 lizhich+  20   0  993088 138732  36016 S   0.3  0.0   1:16.10 node        \u001b[m\u001b[m\u001b[K\n",
      "\u001b[m    1 root      20   0  226108   9624   6608 S   0.0  0.0   0:33.82 systemd     \u001b[m\u001b[m\u001b[K\n",
      "\u001b[m    2 root      20   0       0      0      0 S   0.0  0.0   0:00.78 kthreadd    \u001b[m\u001b[m\u001b[K\n",
      "\u001b[m    3 root       0 -20       0      0      0 I   0.0  0.0   0:00.00 rcu_gp      \u001b[m\u001b[m\u001b[K\n",
      "\u001b[m    4 root       0 -20       0      0      0 I   0.0  0.0   0:00.00 rcu_par_gp  \u001b[m\u001b[m\u001b[K\n",
      "\u001b[m    6 root       0 -20       0      0      0 I   0.0  0.0   0:00.00 kworker/0:+ \u001b[m\u001b[m\u001b[K\n",
      "\u001b[m    9 root       0 -20       0      0      0 I   0.0  0.0   0:00.00 mm_percpu_+ \u001b[m\u001b[m\u001b[K\n",
      "\u001b[m   10 root      20   0       0      0      0 S   0.0  0.0   0:41.78 ksoftirqd/0 \u001b[m\u001b[m\u001b[K\n",
      "\u001b[m   11 root      20   0       0      0      0 I   0.0  0.0  10:23.01 rcu_sched   \u001b[m\u001b[m\u001b[K\u001b[H\u001b[mtop - 00:13:26 up 20 days, 16:30,  4 users,  load average: 1.28, 1.37, 1.37\u001b[m\u001b[m\u001b[m\u001b[m\u001b[K\n",
      "\n",
      "%Cpu(s):\u001b[m\u001b[m\u001b[1m  0.9 \u001b[m\u001b[mus,\u001b[m\u001b[m\u001b[1m  0.1 \u001b[m\u001b[msy,\u001b[m\u001b[m\u001b[1m  0.0 \u001b[m\u001b[mni,\u001b[m\u001b[m\u001b[1m 99.0 \u001b[m\u001b[mid,\u001b[m\u001b[m\u001b[1m  0.0 \u001b[m\u001b[mwa,\u001b[m\u001b[m\u001b[1m  0.0 \u001b[m\u001b[mhi,\u001b[m\u001b[m\u001b[1m  0.0 \u001b[m\u001b[msi,\u001b[m\u001b[m\u001b[1m  0.0 \u001b[m\u001b[mst\u001b[m\u001b[m\u001b[m\u001b[m\u001b[K\n",
      "KiB Mem :\u001b[m\u001b[m\u001b[1m 77881388+\u001b[m\u001b[mtotal,\u001b[m\u001b[m\u001b[1m 47849766+\u001b[m\u001b[mfree,\u001b[m\u001b[m\u001b[1m 26549280 \u001b[m\u001b[mused,\u001b[m\u001b[m\u001b[1m 27376691+\u001b[m\u001b[mbuff/cache\u001b[m\u001b[m\u001b[m\u001b[m\u001b[K\n",
      "KiB Swap:\u001b[m\u001b[m\u001b[1m        0 \u001b[m\u001b[mtotal,\u001b[m\u001b[m\u001b[1m        0 \u001b[m\u001b[mfree,\u001b[m\u001b[m\u001b[1m        0 \u001b[m\u001b[mused.\u001b[m\u001b[m\u001b[1m 74487161+\u001b[m\u001b[mavail Mem \u001b[m\u001b[m\u001b[m\u001b[m\u001b[K\n",
      "\u001b[K\n",
      "\n",
      "\u001b[m20874 zhayong+  20   0 2167748 1.255g  37980 S  29.8  0.2  55:47.07 node        \u001b[m\u001b[m\u001b[K\n",
      "\u001b[m 3871 libvirt+  20   0 38.087g 0.031t  17096 S   7.6  4.3   2875:10 qemu-syste+ \u001b[m\u001b[m\u001b[K\n",
      "\u001b[m 2084 root      20   0  326856   2864   2356 S   0.7  0.0  89:41.54 rshim       \u001b[m\u001b[m\u001b[K\n",
      "\u001b[m10589 xiachun+  20   0  775752  66132  15468 S   0.7  0.0   0:01.36 python      \u001b[m\u001b[m\u001b[K\n",
      "\u001b[m\u001b[1m24946 xiachun+  20   0   46500   5028   3704 R   0.7  0.0   0:00.16 top         \u001b[m\u001b[m\u001b[K\n",
      "\u001b[m    1 root      20   0  226108   9624   6608 S   0.0  0.0   0:33.82 systemd     \u001b[m\u001b[m\u001b[K\n",
      "\u001b[m    2 root      20   0       0      0      0 S   0.0  0.0   0:00.78 kthreadd    \u001b[m\u001b[m\u001b[K\n",
      "\u001b[m    3 root       0 -20       0      0      0 I   0.0  0.0   0:00.00 rcu_gp      \u001b[m\u001b[m\u001b[K\n",
      "\u001b[m    4 root       0 -20       0      0      0 I   0.0  0.0   0:00.00 rcu_par_gp  \u001b[m\u001b[m\u001b[K\n",
      "\u001b[m    6 root       0 -20       0      0      0 I   0.0  0.0   0:00.00 kworker/0:+ \u001b[m\u001b[m\u001b[K\n",
      "\u001b[m    9 root       0 -20       0      0      0 I   0.0  0.0   0:00.00 mm_percpu_+ \u001b[m\u001b[m\u001b[K\n",
      "\u001b[m   10 root      20   0       0      0      0 S   0.0  0.0   0:41.78 ksoftirqd/0 \u001b[m\u001b[m\u001b[K\n",
      "\u001b[m   11 root      20   0       0      0      0 I   0.0  0.0  10:23.01 rcu_sched   \u001b[m\u001b[m\u001b[K\n",
      "\u001b[m   12 root      rt   0       0      0      0 S   0.0  0.0   0:02.25 migration/0 \u001b[m\u001b[m\u001b[K\n",
      "\u001b[m   13 root     -51   0       0      0      0 S   0.0  0.0   0:00.00 idle_injec+ \u001b[m\u001b[m\u001b[K\n",
      "\u001b[m   14 root      20   0       0      0      0 S   0.0  0.0   0:00.00 cpuhp/0     \u001b[m\u001b[m\u001b[K\n"
     ]
    },
    {
     "name": "stdout",
     "output_type": "stream",
     "text": [
      "\u001b[m   15 root      20   0       0      0      0 S   0.0  0.0   0:00.00 cpuhp/1     \u001b[m\u001b[m\u001b[K\u001b[H\u001b[mtop - 00:13:29 up 20 days, 16:30,  4 users,  load average: 1.34, 1.38, 1.38\u001b[m\u001b[m\u001b[m\u001b[m\u001b[K\n",
      "\n",
      "%Cpu(s):\u001b[m\u001b[m\u001b[1m  0.1 \u001b[m\u001b[mus,\u001b[m\u001b[m\u001b[1m  0.1 \u001b[m\u001b[msy,\u001b[m\u001b[m\u001b[1m  0.0 \u001b[m\u001b[mni,\u001b[m\u001b[m\u001b[1m 99.8 \u001b[m\u001b[mid,\u001b[m\u001b[m\u001b[1m  0.0 \u001b[m\u001b[mwa,\u001b[m\u001b[m\u001b[1m  0.0 \u001b[m\u001b[mhi,\u001b[m\u001b[m\u001b[1m  0.0 \u001b[m\u001b[msi,\u001b[m\u001b[m\u001b[1m  0.0 \u001b[m\u001b[mst\u001b[m\u001b[m\u001b[m\u001b[m\u001b[K\n",
      "KiB Mem :\u001b[m\u001b[m\u001b[1m 77881388+\u001b[m\u001b[mtotal,\u001b[m\u001b[m\u001b[1m 47849753+\u001b[m\u001b[mfree,\u001b[m\u001b[m\u001b[1m 26549432 \u001b[m\u001b[mused,\u001b[m\u001b[m\u001b[1m 27376691+\u001b[m\u001b[mbuff/cache\u001b[m\u001b[m\u001b[m\u001b[m\u001b[K\n",
      "KiB Swap:\u001b[m\u001b[m\u001b[1m        0 \u001b[m\u001b[mtotal,\u001b[m\u001b[m\u001b[1m        0 \u001b[m\u001b[mfree,\u001b[m\u001b[m\u001b[1m        0 \u001b[m\u001b[mused.\u001b[m\u001b[m\u001b[1m 74487148+\u001b[m\u001b[mavail Mem \u001b[m\u001b[m\u001b[m\u001b[m\u001b[K\n",
      "\u001b[K\n",
      "\n",
      "\u001b[m 3871 libvirt+  20   0 38.087g 0.031t  17096 S   7.6  4.3   2875:10 qemu-syste+ \u001b[m\u001b[m\u001b[K\n",
      "\u001b[m  261 root      25   5       0      0      0 S   0.7  0.0  95:01.11 ksmd        \u001b[m\u001b[m\u001b[K\n",
      "\u001b[m10589 xiachun+  20   0  775752  66192  15468 S   0.7  0.0   0:01.38 python      \u001b[m\u001b[m\u001b[K\n",
      "\u001b[m\u001b[1m24946 xiachun+  20   0   46500   5028   3704 R   0.7  0.0   0:00.18 top         \u001b[m\u001b[m\u001b[K\n",
      "\u001b[m36769 root      20   0  851596  20224   6912 S   0.7  0.0 340:10.29 tun2socks   \u001b[m\u001b[m\u001b[K\n",
      "\u001b[m 1977 root      20   0  265140  11188   9096 S   0.3  0.0   2:25.57 nmbd        \u001b[m\u001b[m\u001b[K\n",
      "\u001b[m 6731 luofan    20   0 1274452 188060  48424 S   0.3  0.0   0:09.82 node        \u001b[m\u001b[m\u001b[K\n",
      "\u001b[m20874 zhayong+  20   0 2167748 1.255g  37980 S   0.3  0.2  55:47.08 node        \u001b[m\u001b[m\u001b[K\n",
      "\u001b[m    1 root      20   0  226108   9624   6608 S   0.0  0.0   0:33.82 systemd     \u001b[m\u001b[m\u001b[K\n",
      "\u001b[m    2 root      20   0       0      0      0 S   0.0  0.0   0:00.78 kthreadd    \u001b[m\u001b[m\u001b[K\n",
      "\u001b[m    3 root       0 -20       0      0      0 I   0.0  0.0   0:00.00 rcu_gp      \u001b[m\u001b[m\u001b[K\n",
      "\u001b[m    4 root       0 -20       0      0      0 I   0.0  0.0   0:00.00 rcu_par_gp  \u001b[m\u001b[m\u001b[K\n",
      "\u001b[m    6 root       0 -20       0      0      0 I   0.0  0.0   0:00.00 kworker/0:+ \u001b[m\u001b[m\u001b[K\n",
      "\u001b[m    9 root       0 -20       0      0      0 I   0.0  0.0   0:00.00 mm_percpu_+ \u001b[m\u001b[m\u001b[K\n",
      "\u001b[m   10 root      20   0       0      0      0 S   0.0  0.0   0:41.78 ksoftirqd/0 \u001b[m\u001b[m\u001b[K\n",
      "\u001b[m   11 root      20   0       0      0      0 I   0.0  0.0  10:23.01 rcu_sched   \u001b[m\u001b[m\u001b[K\n",
      "\u001b[m   12 root      rt   0       0      0      0 S   0.0  0.0   0:02.25 migration/0 \u001b[m\u001b[m\u001b[K\u001b[H\u001b[mtop - 00:13:32 up 20 days, 16:30,  4 users,  load average: 1.34, 1.38, 1.38\u001b[m\u001b[m\u001b[m\u001b[m\u001b[K\n",
      "Tasks:\u001b[m\u001b[m\u001b[1m 730 \u001b[m\u001b[mtotal,\u001b[m\u001b[m\u001b[1m   2 \u001b[m\u001b[mrunning,\u001b[m\u001b[m\u001b[1m 453 \u001b[m\u001b[msleeping,\u001b[m\u001b[m\u001b[1m  30 \u001b[m\u001b[mstopped,\u001b[m\u001b[m\u001b[1m   1 \u001b[m\u001b[mzombie\u001b[m\u001b[m\u001b[m\u001b[m\u001b[K\n",
      "\n",
      "KiB Mem :\u001b[m\u001b[m\u001b[1m 77881388+\u001b[m\u001b[mtotal,\u001b[m\u001b[m\u001b[1m 47849724+\u001b[m\u001b[mfree,\u001b[m\u001b[m\u001b[1m 26549716 \u001b[m\u001b[mused,\u001b[m\u001b[m\u001b[1m 27376691+\u001b[m\u001b[mbuff/cache\u001b[m\u001b[m\u001b[m\u001b[m\u001b[K\n",
      "KiB Swap:\u001b[m\u001b[m\u001b[1m        0 \u001b[m\u001b[mtotal,\u001b[m\u001b[m\u001b[1m        0 \u001b[m\u001b[mfree,\u001b[m\u001b[m\u001b[1m        0 \u001b[m\u001b[mused.\u001b[m\u001b[m\u001b[1m 74487116+\u001b[m\u001b[mavail Mem \u001b[m\u001b[m\u001b[m\u001b[m\u001b[K\n",
      "\u001b[K\n",
      "\n",
      "\u001b[m\u001b[1m 3871 libvirt+  20   0 38.087g 0.031t  17096 R   8.3  4.3   2875:10 qemu-syste+ \u001b[m\u001b[m\u001b[K\n",
      "\u001b[m  261 root      25   5       0      0      0 S   0.3  0.0  95:01.12 ksmd        \u001b[m\u001b[m\u001b[K\n",
      "\u001b[m  983 xiachun+  20   0  693220 188880  36544 S   0.3  0.0   3:06.47 jupyter-no+ \u001b[m\u001b[m\u001b[K\n",
      "\u001b[m 2084 root      20   0  326856   2864   2356 S   0.3  0.0  89:41.55 rshim       \u001b[m\u001b[m\u001b[K\n",
      "\u001b[m10589 xiachun+  20   0  775888  66192  15468 S   0.3  0.0   0:01.39 python      \u001b[m\u001b[m\u001b[K\n",
      "\u001b[m20013 zhayong+  20   0 11.408g 615992  39476 S   0.3  0.1   9:49.62 node        \u001b[m\u001b[m\u001b[K\n",
      "\u001b[m\u001b[1m24946 xiachun+  20   0   46500   5028   3704 R   0.3  0.0   0:00.19 top         \u001b[m\u001b[m\u001b[K\n",
      "\u001b[m    1 root      20   0  226108   9624   6608 S   0.0  0.0   0:33.82 systemd     \u001b[m\u001b[m\u001b[K\n",
      "\u001b[m    2 root      20   0       0      0      0 S   0.0  0.0   0:00.78 kthreadd    \u001b[m\u001b[m\u001b[K\n",
      "\u001b[m    3 root       0 -20       0      0      0 I   0.0  0.0   0:00.00 rcu_gp      \u001b[m\u001b[m\u001b[K\n",
      "\u001b[m    4 root       0 -20       0      0      0 I   0.0  0.0   0:00.00 rcu_par_gp  \u001b[m\u001b[m\u001b[K\n",
      "\u001b[m    6 root       0 -20       0      0      0 I   0.0  0.0   0:00.00 kworker/0:+ \u001b[m\u001b[m\u001b[K\n",
      "\u001b[m    9 root       0 -20       0      0      0 I   0.0  0.0   0:00.00 mm_percpu_+ \u001b[m\u001b[m\u001b[K\n",
      "\u001b[m   10 root      20   0       0      0      0 S   0.0  0.0   0:41.78 ksoftirqd/0 \u001b[m\u001b[m\u001b[K\n",
      "\u001b[m   11 root      20   0       0      0      0 I   0.0  0.0  10:23.01 rcu_sched   \u001b[m\u001b[m\u001b[K\n",
      "\u001b[m   12 root      rt   0       0      0      0 S   0.0  0.0   0:02.25 migration/0 \u001b[m\u001b[m\u001b[K\n",
      "\u001b[m   13 root     -51   0       0      0      0 S   0.0  0.0   0:00.00 idle_injec+ \u001b[m\u001b[m\u001b[K\u001b[H\u001b[mtop - 00:13:35 up 20 days, 16:30,  4 users,  load average: 1.39, 1.39, 1.38\u001b[m\u001b[m\u001b[m\u001b[m\u001b[K\n",
      "Tasks:\u001b[m\u001b[m\u001b[1m 730 \u001b[m\u001b[mtotal,\u001b[m\u001b[m\u001b[1m   1 \u001b[m\u001b[mrunning,\u001b[m\u001b[m\u001b[1m 454 \u001b[m\u001b[msleeping,\u001b[m\u001b[m\u001b[1m  30 \u001b[m\u001b[mstopped,\u001b[m\u001b[m\u001b[1m   1 \u001b[m\u001b[mzombie\u001b[m\u001b[m\u001b[m\u001b[m\u001b[K\n",
      "%Cpu(s):\u001b[m\u001b[m\u001b[1m  0.2 \u001b[m\u001b[mus,\u001b[m\u001b[m\u001b[1m  0.1 \u001b[m\u001b[msy,\u001b[m\u001b[m\u001b[1m  0.0 \u001b[m\u001b[mni,\u001b[m\u001b[m\u001b[1m 99.7 \u001b[m\u001b[mid,\u001b[m\u001b[m\u001b[1m  0.0 \u001b[m\u001b[mwa,\u001b[m\u001b[m\u001b[1m  0.0 \u001b[m\u001b[mhi,\u001b[m\u001b[m\u001b[1m  0.0 \u001b[m\u001b[msi,\u001b[m\u001b[m\u001b[1m  0.0 \u001b[m\u001b[mst\u001b[m\u001b[m\u001b[m\u001b[m\u001b[K\n",
      "KiB Mem :\u001b[m\u001b[m\u001b[1m 77881388+\u001b[m\u001b[mtotal,\u001b[m\u001b[m\u001b[1m 47849635+\u001b[m\u001b[mfree,\u001b[m\u001b[m\u001b[1m 26550596 \u001b[m\u001b[mused,\u001b[m\u001b[m\u001b[1m 27376691+\u001b[m\u001b[mbuff/cache\u001b[m\u001b[m\u001b[m\u001b[m\u001b[K\n",
      "KiB Swap:\u001b[m\u001b[m\u001b[1m        0 \u001b[m\u001b[mtotal,\u001b[m\u001b[m\u001b[1m        0 \u001b[m\u001b[mfree,\u001b[m\u001b[m\u001b[1m        0 \u001b[m\u001b[mused.\u001b[m\u001b[m\u001b[1m 74487033+\u001b[m\u001b[mavail Mem \u001b[m\u001b[m\u001b[m\u001b[m\u001b[K\n",
      "\u001b[K\n",
      "\n",
      "\u001b[m 3871 libvirt+  20   0 38.087g 0.031t  17096 S   7.6  4.3   2875:10 qemu-syste+ \u001b[m\u001b[m\u001b[K\n",
      "\u001b[m 2299 root      20   0 25.784g 113656  51516 S   1.7  0.0  17:17.38 dockerd     \u001b[m\u001b[m\u001b[K\n",
      "\u001b[m20125 zhayong+  20   0 11.299g 487164  43896 S   1.3  0.1  53:45.65 node        \u001b[m\u001b[m\u001b[K\n",
      "\u001b[m10589 xiachun+  20   0  775888  66192  15468 S   0.7  0.0   0:01.41 python      \u001b[m\u001b[m\u001b[K\n",
      "\u001b[m\u001b[1m24946 xiachun+  20   0   46500   5028   3704 R   0.7  0.0   0:00.21 top         \u001b[m\u001b[m\u001b[K\n",
      "\u001b[m  983 xiachun+  20   0  693220 188880  36544 S   0.3  0.0   3:06.48 jupyter-no+ \u001b[m\u001b[m\u001b[K\n",
      "\u001b[m 1326 avahi     20   0   47808   4212   3112 S   0.3  0.0   3:10.83 avahi-daem+ \u001b[m\u001b[m\u001b[K\n",
      "\u001b[m 2084 root      20   0  326856   2864   2356 S   0.3  0.0  89:41.56 rshim       \u001b[m\u001b[m\u001b[K\n",
      "\u001b[m20587 zhayong+  20   0  609484  46304  32664 S   0.3  0.0   0:09.57 node        \u001b[m\u001b[m\u001b[K\n",
      "\u001b[m20980 root      20   0       0      0      0 I   0.3  0.0   0:00.04 kworker/32+ \u001b[m\u001b[m\u001b[K\n",
      "\u001b[m    1 root      20   0  226108   9624   6608 S   0.0  0.0   0:33.82 systemd     \u001b[m\u001b[m\u001b[K\n",
      "\u001b[m    2 root      20   0       0      0      0 S   0.0  0.0   0:00.78 kthreadd    \u001b[m\u001b[m\u001b[K\n",
      "\u001b[m    3 root       0 -20       0      0      0 I   0.0  0.0   0:00.00 rcu_gp      \u001b[m\u001b[m\u001b[K\n",
      "\u001b[m    4 root       0 -20       0      0      0 I   0.0  0.0   0:00.00 rcu_par_gp  \u001b[m\u001b[m\u001b[K\n",
      "\u001b[m    6 root       0 -20       0      0      0 I   0.0  0.0   0:00.00 kworker/0:+ \u001b[m\u001b[m\u001b[K\n",
      "\u001b[m    9 root       0 -20       0      0      0 I   0.0  0.0   0:00.00 mm_percpu_+ \u001b[m\u001b[m\u001b[K\n",
      "\u001b[m   10 root      20   0       0      0      0 S   0.0  0.0   0:41.78 ksoftirqd/0 \u001b[m\u001b[m\u001b[K\u001b[?1l\u001b>\u001b[25;1H\n",
      "\u001b[K"
     ]
    }
   ],
   "source": [
    "!top\n"
   ]
  },
  {
   "cell_type": "code",
   "execution_count": null,
   "metadata": {},
   "outputs": [],
   "source": [
    "!free -m"
   ]
  },
  {
   "cell_type": "code",
   "execution_count": null,
   "metadata": {},
   "outputs": [],
   "source": [
    "!lscpu"
   ]
  },
  {
   "cell_type": "code",
   "execution_count": null,
   "metadata": {},
   "outputs": [],
   "source": []
  }
 ],
 "metadata": {
  "kernelspec": {
   "display_name": "Python 3 (ipykernel)",
   "language": "python",
   "name": "python3"
  },
  "language_info": {
   "codemirror_mode": {
    "name": "ipython",
    "version": 3
   },
   "file_extension": ".py",
   "mimetype": "text/x-python",
   "name": "python",
   "nbconvert_exporter": "python",
   "pygments_lexer": "ipython3",
   "version": "3.9.12"
  }
 },
 "nbformat": 4,
 "nbformat_minor": 2
}
